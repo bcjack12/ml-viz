{
 "cells": [
  {
   "cell_type": "markdown",
   "metadata": {},
   "source": [
    "# Viewing 2D projection and comparing with raw high dimensional values\n",
    "\n",
    "There are many methods for visualizing high dimensional data in 2D. Some popular methods are PCA, t-SNE, autoencoding variants, amongst many others. These methods often do a great job at giving us a feel for what high dimensional data looks like; something our mere mortal brains can't do.\n",
    "\n",
    "The main aim of this notebook is to setup a plotly dashboard that lets us interact with the 2D projection. This dashboard will consist of three panels:\n",
    "\n",
    "- The left panel shows a scatter plot of the 2D projection\n",
    "- The middle panel shows a line plot of the *raw high dimensional data* from a selected point in the 2D projection from the left panel. The idea here is we want to compare nearby points in the 2D embedding to see if they make sense in ther high dimensional counter-part.\n",
    "- The right panel shows not a single line plot, but a collection of raw high dimensional data *points* from a group of selected points in the 2D projection from the left panel. The aim is similar to the middle panel but instead of focusing on a single data point we want to a look at a collection that we can selected using the box-select or lasso-select tool. "
   ]
  },
  {
   "cell_type": "code",
   "execution_count": 1,
   "metadata": {},
   "outputs": [],
   "source": [
    "import numpy as np\n",
    "import pandas as pd\n",
    "\n",
    "import matplotlib.pyplot as plt\n",
    "%matplotlib inline"
   ]
  },
  {
   "cell_type": "code",
   "execution_count": 2,
   "metadata": {},
   "outputs": [],
   "source": [
    "# plotly\n",
    "from plotly.graph_objs import FigureWidget\n",
    "from plotly.callbacks import Points, InputDeviceState\n",
    "\n",
    "\n",
    "# ipywidgets\n",
    "from ipywidgets import HTML\n",
    "from ipywidgets import HBox, VBox, Button"
   ]
  },
  {
   "cell_type": "markdown",
   "metadata": {},
   "source": [
    "## Data and projection setup\n",
    "\n",
    "We load the data and prep and project to 2D. Here we use PCA."
   ]
  },
  {
   "cell_type": "code",
   "execution_count": 3,
   "metadata": {},
   "outputs": [],
   "source": [
    "from sklearn.datasets import load_iris"
   ]
  },
  {
   "cell_type": "code",
   "execution_count": 4,
   "metadata": {},
   "outputs": [],
   "source": [
    "X,y = load_iris(return_X_y=True)\n"
   ]
  },
  {
   "cell_type": "code",
   "execution_count": 5,
   "metadata": {},
   "outputs": [
    {
     "data": {
      "text/plain": [
       "(150, 4)"
      ]
     },
     "execution_count": 5,
     "metadata": {},
     "output_type": "execute_result"
    }
   ],
   "source": [
    "X.shape"
   ]
  },
  {
   "cell_type": "code",
   "execution_count": 6,
   "metadata": {},
   "outputs": [],
   "source": [
    "X = np.log10(X)"
   ]
  },
  {
   "cell_type": "code",
   "execution_count": 7,
   "metadata": {},
   "outputs": [],
   "source": [
    "from sklearn.decomposition import PCA"
   ]
  },
  {
   "cell_type": "code",
   "execution_count": 8,
   "metadata": {},
   "outputs": [],
   "source": [
    "z = PCA(n_components=2).fit_transform(X)"
   ]
  },
  {
   "cell_type": "markdown",
   "metadata": {},
   "source": [
    "## Dashboard setup\n",
    "\n",
    "Here is the magic of using plotly to make our dashbaord!"
   ]
  },
  {
   "cell_type": "code",
   "execution_count": 9,
   "metadata": {},
   "outputs": [],
   "source": [
    "## left panel figure\n",
    "fig = FigureWidget(\n",
    "    data=[\n",
    "        dict(\n",
    "            type='scattergl',\n",
    "            x=z[:,0],\n",
    "            y=z[:,1],\n",
    "            mode='markers',\n",
    "        )\n",
    "    ],\n",
    ")\n",
    "fig.data[0].marker.cmax = 1.5\n",
    "fig.data[0].marker.cmin = -.5100\n",
    "fig.data[0].marker.colorscale = [[0, 'lightgray'], [0.5, 'lightgray'],[0.5, 'red'], [1, 'red']]\n",
    "fig.data[0].marker.color = np.zeros(X.shape[0])\n",
    "fig.layout.width = 500\n",
    "fig.layout.hovermode = \"closest\"\n",
    "fig.layout.title = \"Embedding\"\n",
    "fig.layout.xaxis.title = \"z1\"\n",
    "fig.layout.yaxis.title = \"z2\"\n",
    "\n",
    "scatt1 = fig.data[0]"
   ]
  },
  {
   "cell_type": "code",
   "execution_count": 16,
   "metadata": {},
   "outputs": [],
   "source": [
    "#"
   ]
  },
  {
   "cell_type": "code",
   "execution_count": 10,
   "metadata": {},
   "outputs": [],
   "source": [
    "# middle panel setup\n",
    "fig2 = FigureWidget(\n",
    "    data=[\n",
    "        dict(\n",
    "            type='scattergl',\n",
    "            x= np.arange(X.shape[1]),\n",
    "            y=X[0,:],        \n",
    "        )\n",
    "    ],\n",
    ")\n",
    "\n",
    "fig2.layout.width = 500\n",
    "fig2.layout.hovermode = \"closest\"\n",
    "fig2.layout.xaxis.title = \"Features\"\n",
    "fig2.layout.title = \"Selected sample\""
   ]
  },
  {
   "cell_type": "code",
   "execution_count": 11,
   "metadata": {},
   "outputs": [],
   "source": [
    "# right panel setup\n",
    "\n",
    "fig3 = FigureWidget(\n",
    "    data=[\n",
    "        dict(\n",
    "            type='scattergl',\n",
    "            x= np.arange(X.shape[1]),\n",
    "            y=np.mean(X,0),        \n",
    "        )\n",
    "    ],\n",
    ")\n",
    "\n",
    "fig3.layout.width = 500\n",
    "fig3.layout.hovermode = \"closest\"\n",
    "fig3.layout.title = \"Average values\"\n",
    "fig3.layout.xaxis.title = \"Average values\""
   ]
  },
  {
   "cell_type": "code",
   "execution_count": 12,
   "metadata": {},
   "outputs": [],
   "source": [
    "# interactivity setup\n",
    "\n",
    "selection_inds = []\n",
    "def brush(trace, points, state):\n",
    "    selection_inds.clear()\n",
    "    selection_inds.extend(points.point_inds)    \n",
    "    inds = np.array(points.point_inds)\n",
    "    fig3.data[0].y = np.mean(X[points.point_inds,:],0)        \n",
    "    for i in range(len(selection_inds)):\n",
    "        fig3.add_scattergl(x = np.arange(X.shape[1]), y = X[selection_inds[i],:], \n",
    "                           marker = {\"color\": \"lightblue\"}, opacity = .3, showlegend=False)\n",
    "    if inds.size:\n",
    "        selected = scatt1.marker.color.copy()\n",
    "        selected[inds] = 1\n",
    "        scatt1.marker.color = selected \n",
    "        \n",
    "\n",
    "    \n",
    "scatt1.on_selection(brush)\n",
    "\n",
    "\n",
    "def hover_fn(trace, points, state):\n",
    "    ind = points.point_inds[0]\n",
    "    fig2.data[0].y = X[ind,:]\n",
    "\n",
    "scatt1.on_hover(hover_fn)\n",
    "\n",
    "\n",
    "# Reset brush\n",
    "def reset_brush(btn):\n",
    "    selection_inds.clear()\n",
    "    fig3.data = ()\n",
    "    fig3.add_scattergl(x = np.arange(X.shape[1]), y = np.mean(X,0), \n",
    "                           showlegend=False)   \n",
    "    scatt1.marker.color = np.zeros(X.shape[0])\n",
    "\n",
    "# Create reset button\n",
    "button = Button(description=\"clear\")\n",
    "button.on_click(reset_brush)"
   ]
  },
  {
   "cell_type": "code",
   "execution_count": 13,
   "metadata": {},
   "outputs": [
    {
     "data": {
      "application/vnd.jupyter.widget-view+json": {
       "model_id": "852526833048473381463d4d35e49cbd",
       "version_major": 2,
       "version_minor": 0
      },
      "text/plain": [
       "VBox(children=(HBox(children=(FigureWidget({\n",
       "    'data': [{'marker': {'cmax': 1.5,\n",
       "                         'c…"
      ]
     },
     "metadata": {},
     "output_type": "display_data"
    }
   ],
   "source": [
    "dashboard = VBox([HBox([fig, fig2, fig3]), button])\n",
    "dashboard"
   ]
  },
  {
   "cell_type": "code",
   "execution_count": null,
   "metadata": {},
   "outputs": [],
   "source": []
  }
 ],
 "metadata": {
  "kernelspec": {
   "display_name": "Python 3",
   "language": "python",
   "name": "python3"
  },
  "language_info": {
   "codemirror_mode": {
    "name": "ipython",
    "version": 3
   },
   "file_extension": ".py",
   "mimetype": "text/x-python",
   "name": "python",
   "nbconvert_exporter": "python",
   "pygments_lexer": "ipython3",
   "version": "3.6.6"
  }
 },
 "nbformat": 4,
 "nbformat_minor": 2
}
