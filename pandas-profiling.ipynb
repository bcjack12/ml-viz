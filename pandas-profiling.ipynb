{
 "cells": [
  {
   "cell_type": "code",
   "execution_count": null,
   "metadata": {
    "ExecuteTime": {
     "end_time": "2019-08-29T15:55:42.013349Z",
     "start_time": "2019-08-29T15:55:41.343194Z"
    }
   },
   "outputs": [],
   "source": [
    "import pandas as pd\n",
    "import numpy as np\n",
    "\n",
    "import pandas_profiling"
   ]
  },
  {
   "cell_type": "code",
   "execution_count": null,
   "metadata": {
    "ExecuteTime": {
     "end_time": "2019-08-29T15:55:42.502621Z",
     "start_time": "2019-08-29T15:55:42.036791Z"
    },
    "colab": {},
    "colab_type": "code",
    "id": "aEmf3rOkkDQC"
   },
   "outputs": [],
   "source": [
    "df = pd.read_csv(\"Neighborhood_Zhvi_AllHomes.csv\")"
   ]
  },
  {
   "cell_type": "code",
   "execution_count": null,
   "metadata": {
    "ExecuteTime": {
     "end_time": "2019-08-29T09:26:18.241740Z",
     "start_time": "2019-08-29T09:25:04.965558Z"
    }
   },
   "outputs": [],
   "source": [
    "\n",
    "profile = df.profile_report(pool_size=8, \n",
    "                                      plot={'histogram': \n",
    "                                            {'bins': 50, \n",
    "                                             'bayesian_blocks_bins': False}},\n",
    "                                      correlations={'kendall': False,\n",
    "                                                    'phi_k': False,\n",
    "                                                    'cramers': False,\n",
    "                                                    'recoded': False},\n",
    "                                     missing_diagrams={'bar': False,\n",
    "                                                       'matrix': False,\n",
    "                                                       'heatmap': False,\n",
    "                                                       'dendrogram': False\n",
    "                                                      }\n",
    "                                     )"
   ]
  },
  {
   "cell_type": "code",
   "execution_count": null,
   "metadata": {
    "ExecuteTime": {
     "end_time": "2019-08-29T09:26:25.834098Z",
     "start_time": "2019-08-29T09:26:25.750875Z"
    }
   },
   "outputs": [],
   "source": [
    "profile"
   ]
  },
  {
   "cell_type": "code",
   "execution_count": null,
   "metadata": {
    "ExecuteTime": {
     "end_time": "2019-08-29T15:55:47.186570Z",
     "start_time": "2019-08-29T15:55:47.145053Z"
    }
   },
   "outputs": [],
   "source": [
    "df_sample = df[['RegionID', 'RegionName', 'City', 'State', 'Metro', 'CountyName', '2019-02']]\n",
    "\n",
    "df_sample[\"price_log\"] = np.log10(df_sample.loc[:,'2019-02'])"
   ]
  },
  {
   "cell_type": "code",
   "execution_count": null,
   "metadata": {
    "ExecuteTime": {
     "end_time": "2019-08-29T15:56:05.241357Z",
     "start_time": "2019-08-29T15:56:05.172398Z"
    }
   },
   "outputs": [],
   "source": [
    "df_sample.to_csv(\"zillow-sample.csv\", index = False)"
   ]
  },
  {
   "cell_type": "code",
   "execution_count": null,
   "metadata": {
    "ExecuteTime": {
     "end_time": "2019-08-29T09:05:57.969324Z",
     "start_time": "2019-08-29T09:05:57.949020Z"
    }
   },
   "outputs": [],
   "source": [
    "import matplotlib.pyplot as plt\n",
    "%matplotlib inline"
   ]
  },
  {
   "cell_type": "code",
   "execution_count": null,
   "metadata": {
    "ExecuteTime": {
     "end_time": "2019-08-29T09:05:59.460723Z",
     "start_time": "2019-08-29T09:05:58.594206Z"
    }
   },
   "outputs": [],
   "source": [
    "plt.plot(df_sample.price_log, df_sample['2019-02'], '.')"
   ]
  },
  {
   "cell_type": "code",
   "execution_count": null,
   "metadata": {
    "ExecuteTime": {
     "end_time": "2019-08-29T04:30:04.888412Z",
     "start_time": "2019-08-29T04:30:04.883213Z"
    }
   },
   "outputs": [],
   "source": [
    "#df_sample.head()"
   ]
  },
  {
   "cell_type": "code",
   "execution_count": null,
   "metadata": {
    "ExecuteTime": {
     "end_time": "2019-08-29T09:22:06.639417Z",
     "start_time": "2019-08-29T09:22:06.636484Z"
    }
   },
   "outputs": [],
   "source": [
    "import multiprocessing"
   ]
  },
  {
   "cell_type": "code",
   "execution_count": null,
   "metadata": {
    "ExecuteTime": {
     "end_time": "2019-08-29T09:22:13.269807Z",
     "start_time": "2019-08-29T09:22:13.265599Z"
    }
   },
   "outputs": [],
   "source": [
    "multiprocessing.cpu_count()"
   ]
  },
  {
   "cell_type": "code",
   "execution_count": null,
   "metadata": {
    "ExecuteTime": {
     "end_time": "2019-08-29T09:24:43.401909Z",
     "start_time": "2019-08-29T09:24:39.912996Z"
    }
   },
   "outputs": [],
   "source": [
    "df_profile = df_sample.profile_report(pool_size=0, \n",
    "                                      plot={'histogram': \n",
    "                                            {'bins': 50, \n",
    "                                             'bayesian_blocks_bins': False}},\n",
    "                                      correlations={'kendall': False,\n",
    "                                                    'phi_k': False,\n",
    "                                                    'cramers': False,\n",
    "                                                    'recoded': False},\n",
    "                                     missing_diagrams={'bar': False,\n",
    "                                                       'matrix': False,\n",
    "                                                       'heatmap': False,\n",
    "                                                       'dendrogram': False\n",
    "                                                      }\n",
    "                                     )"
   ]
  },
  {
   "cell_type": "code",
   "execution_count": null,
   "metadata": {
    "ExecuteTime": {
     "end_time": "2019-08-29T09:21:12.730199Z",
     "start_time": "2019-08-29T09:21:12.702568Z"
    }
   },
   "outputs": [],
   "source": [
    "df_profile"
   ]
  },
  {
   "cell_type": "code",
   "execution_count": null,
   "metadata": {},
   "outputs": [],
   "source": []
  },
  {
   "cell_type": "code",
   "execution_count": null,
   "metadata": {},
   "outputs": [],
   "source": []
  },
  {
   "cell_type": "code",
   "execution_count": null,
   "metadata": {},
   "outputs": [],
   "source": []
  }
 ],
 "metadata": {
  "hide_input": false,
  "kernelspec": {
   "display_name": "Python 3",
   "language": "python",
   "name": "python3"
  },
  "language_info": {
   "codemirror_mode": {
    "name": "ipython",
    "version": 3
   },
   "file_extension": ".py",
   "mimetype": "text/x-python",
   "name": "python",
   "nbconvert_exporter": "python",
   "pygments_lexer": "ipython3",
   "version": "3.6.9"
  },
  "latex_envs": {
   "LaTeX_envs_menu_present": true,
   "autoclose": false,
   "autocomplete": true,
   "bibliofile": "biblio.bib",
   "cite_by": "apalike",
   "current_citInitial": 1,
   "eqLabelWithNumbers": true,
   "eqNumInitial": 1,
   "hotkeys": {
    "equation": "Ctrl-E",
    "itemize": "Ctrl-I"
   },
   "labels_anchors": false,
   "latex_user_defs": false,
   "report_style_numbering": false,
   "user_envs_cfg": false
  },
  "varInspector": {
   "cols": {
    "lenName": 16,
    "lenType": 16,
    "lenVar": 40
   },
   "kernels_config": {
    "python": {
     "delete_cmd_postfix": "",
     "delete_cmd_prefix": "del ",
     "library": "var_list.py",
     "varRefreshCmd": "print(var_dic_list())"
    },
    "r": {
     "delete_cmd_postfix": ") ",
     "delete_cmd_prefix": "rm(",
     "library": "var_list.r",
     "varRefreshCmd": "cat(var_dic_list()) "
    }
   },
   "types_to_exclude": [
    "module",
    "function",
    "builtin_function_or_method",
    "instance",
    "_Feature"
   ],
   "window_display": false
  }
 },
 "nbformat": 4,
 "nbformat_minor": 2
}
