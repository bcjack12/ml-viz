{
 "cells": [
  {
   "cell_type": "code",
   "execution_count": 1,
   "metadata": {
    "ExecuteTime": {
     "end_time": "2019-04-02T14:35:20.123125Z",
     "start_time": "2019-04-02T14:35:19.456100Z"
    }
   },
   "outputs": [],
   "source": [
    "import pandas as pd\n",
    "import numpy as np\n",
    "\n",
    "import pandas_profiling"
   ]
  },
  {
   "cell_type": "code",
   "execution_count": 2,
   "metadata": {
    "colab": {},
    "colab_type": "code",
    "id": "aEmf3rOkkDQC"
   },
   "outputs": [],
   "source": [
    "df = pd.read_csv(\"/Users/mehrdadyazdani/Downloads/Neighborhood_Zhvi_AllHomes.csv\")"
   ]
  },
  {
   "cell_type": "code",
   "execution_count": 3,
   "metadata": {},
   "outputs": [
    {
     "data": {
      "text/html": [
       "<div>\n",
       "<style scoped>\n",
       "    .dataframe tbody tr th:only-of-type {\n",
       "        vertical-align: middle;\n",
       "    }\n",
       "\n",
       "    .dataframe tbody tr th {\n",
       "        vertical-align: top;\n",
       "    }\n",
       "\n",
       "    .dataframe thead th {\n",
       "        text-align: right;\n",
       "    }\n",
       "</style>\n",
       "<table border=\"1\" class=\"dataframe\">\n",
       "  <thead>\n",
       "    <tr style=\"text-align: right;\">\n",
       "      <th></th>\n",
       "      <th>RegionID</th>\n",
       "      <th>RegionName</th>\n",
       "      <th>City</th>\n",
       "      <th>State</th>\n",
       "      <th>Metro</th>\n",
       "      <th>CountyName</th>\n",
       "      <th>SizeRank</th>\n",
       "      <th>1996-04</th>\n",
       "      <th>1996-05</th>\n",
       "      <th>1996-06</th>\n",
       "      <th>...</th>\n",
       "      <th>2018-05</th>\n",
       "      <th>2018-06</th>\n",
       "      <th>2018-07</th>\n",
       "      <th>2018-08</th>\n",
       "      <th>2018-09</th>\n",
       "      <th>2018-10</th>\n",
       "      <th>2018-11</th>\n",
       "      <th>2018-12</th>\n",
       "      <th>2019-01</th>\n",
       "      <th>2019-02</th>\n",
       "    </tr>\n",
       "  </thead>\n",
       "  <tbody>\n",
       "    <tr>\n",
       "      <th>0</th>\n",
       "      <td>274772</td>\n",
       "      <td>Northeast Dallas</td>\n",
       "      <td>Dallas</td>\n",
       "      <td>TX</td>\n",
       "      <td>Dallas-Fort Worth-Arlington</td>\n",
       "      <td>Dallas County</td>\n",
       "      <td>1</td>\n",
       "      <td>135800.0</td>\n",
       "      <td>135500.0</td>\n",
       "      <td>134900.0</td>\n",
       "      <td>...</td>\n",
       "      <td>315500</td>\n",
       "      <td>316800</td>\n",
       "      <td>317500</td>\n",
       "      <td>317700</td>\n",
       "      <td>318500</td>\n",
       "      <td>320600</td>\n",
       "      <td>324500</td>\n",
       "      <td>330200</td>\n",
       "      <td>336400</td>\n",
       "      <td>339900</td>\n",
       "    </tr>\n",
       "    <tr>\n",
       "      <th>1</th>\n",
       "      <td>192689</td>\n",
       "      <td>Paradise</td>\n",
       "      <td>Las Vegas</td>\n",
       "      <td>NV</td>\n",
       "      <td>Las Vegas-Henderson-Paradise</td>\n",
       "      <td>Clark County</td>\n",
       "      <td>2</td>\n",
       "      <td>119400.0</td>\n",
       "      <td>119400.0</td>\n",
       "      <td>119300.0</td>\n",
       "      <td>...</td>\n",
       "      <td>241100</td>\n",
       "      <td>244400</td>\n",
       "      <td>247600</td>\n",
       "      <td>251200</td>\n",
       "      <td>254600</td>\n",
       "      <td>257600</td>\n",
       "      <td>260100</td>\n",
       "      <td>261500</td>\n",
       "      <td>262200</td>\n",
       "      <td>262800</td>\n",
       "    </tr>\n",
       "    <tr>\n",
       "      <th>2</th>\n",
       "      <td>270958</td>\n",
       "      <td>Upper West Side</td>\n",
       "      <td>New York</td>\n",
       "      <td>NY</td>\n",
       "      <td>New York-Newark-Jersey City</td>\n",
       "      <td>New York County</td>\n",
       "      <td>3</td>\n",
       "      <td>299500.0</td>\n",
       "      <td>299700.0</td>\n",
       "      <td>299600.0</td>\n",
       "      <td>...</td>\n",
       "      <td>1399100</td>\n",
       "      <td>1391700</td>\n",
       "      <td>1383800</td>\n",
       "      <td>1379000</td>\n",
       "      <td>1370200</td>\n",
       "      <td>1360500</td>\n",
       "      <td>1349200</td>\n",
       "      <td>1336000</td>\n",
       "      <td>1323800</td>\n",
       "      <td>1317100</td>\n",
       "    </tr>\n",
       "    <tr>\n",
       "      <th>3</th>\n",
       "      <td>118208</td>\n",
       "      <td>South Los Angeles</td>\n",
       "      <td>Los Angeles</td>\n",
       "      <td>CA</td>\n",
       "      <td>Los Angeles-Long Beach-Anaheim</td>\n",
       "      <td>Los Angeles County</td>\n",
       "      <td>4</td>\n",
       "      <td>122700.0</td>\n",
       "      <td>122900.0</td>\n",
       "      <td>123100.0</td>\n",
       "      <td>...</td>\n",
       "      <td>462200</td>\n",
       "      <td>464700</td>\n",
       "      <td>467000</td>\n",
       "      <td>469400</td>\n",
       "      <td>472000</td>\n",
       "      <td>474400</td>\n",
       "      <td>476300</td>\n",
       "      <td>478700</td>\n",
       "      <td>482200</td>\n",
       "      <td>484800</td>\n",
       "    </tr>\n",
       "    <tr>\n",
       "      <th>4</th>\n",
       "      <td>270957</td>\n",
       "      <td>Upper East Side</td>\n",
       "      <td>New York</td>\n",
       "      <td>NY</td>\n",
       "      <td>New York-Newark-Jersey City</td>\n",
       "      <td>New York County</td>\n",
       "      <td>5</td>\n",
       "      <td>339400.0</td>\n",
       "      <td>339900.0</td>\n",
       "      <td>340500.0</td>\n",
       "      <td>...</td>\n",
       "      <td>1383300</td>\n",
       "      <td>1383300</td>\n",
       "      <td>1367200</td>\n",
       "      <td>1357300</td>\n",
       "      <td>1345000</td>\n",
       "      <td>1327500</td>\n",
       "      <td>1312800</td>\n",
       "      <td>1301500</td>\n",
       "      <td>1287200</td>\n",
       "      <td>1275600</td>\n",
       "    </tr>\n",
       "  </tbody>\n",
       "</table>\n",
       "<p>5 rows × 282 columns</p>\n",
       "</div>"
      ],
      "text/plain": [
       "   RegionID         RegionName         City State  \\\n",
       "0    274772   Northeast Dallas       Dallas    TX   \n",
       "1    192689           Paradise    Las Vegas    NV   \n",
       "2    270958    Upper West Side     New York    NY   \n",
       "3    118208  South Los Angeles  Los Angeles    CA   \n",
       "4    270957    Upper East Side     New York    NY   \n",
       "\n",
       "                            Metro          CountyName  SizeRank   1996-04  \\\n",
       "0     Dallas-Fort Worth-Arlington       Dallas County         1  135800.0   \n",
       "1    Las Vegas-Henderson-Paradise        Clark County         2  119400.0   \n",
       "2     New York-Newark-Jersey City     New York County         3  299500.0   \n",
       "3  Los Angeles-Long Beach-Anaheim  Los Angeles County         4  122700.0   \n",
       "4     New York-Newark-Jersey City     New York County         5  339400.0   \n",
       "\n",
       "    1996-05   1996-06   ...     2018-05  2018-06  2018-07  2018-08  2018-09  \\\n",
       "0  135500.0  134900.0   ...      315500   316800   317500   317700   318500   \n",
       "1  119400.0  119300.0   ...      241100   244400   247600   251200   254600   \n",
       "2  299700.0  299600.0   ...     1399100  1391700  1383800  1379000  1370200   \n",
       "3  122900.0  123100.0   ...      462200   464700   467000   469400   472000   \n",
       "4  339900.0  340500.0   ...     1383300  1383300  1367200  1357300  1345000   \n",
       "\n",
       "   2018-10  2018-11  2018-12  2019-01  2019-02  \n",
       "0   320600   324500   330200   336400   339900  \n",
       "1   257600   260100   261500   262200   262800  \n",
       "2  1360500  1349200  1336000  1323800  1317100  \n",
       "3   474400   476300   478700   482200   484800  \n",
       "4  1327500  1312800  1301500  1287200  1275600  \n",
       "\n",
       "[5 rows x 282 columns]"
      ]
     },
     "execution_count": 3,
     "metadata": {},
     "output_type": "execute_result"
    }
   ],
   "source": [
    "df.head()"
   ]
  },
  {
   "cell_type": "code",
   "execution_count": 8,
   "metadata": {},
   "outputs": [
    {
     "data": {
      "text/plain": [
       "Index(['RegionID', 'RegionName', 'City', 'State', 'Metro', 'CountyName',\n",
       "       'SizeRank', '1996-04', '1996-05', '1996-06',\n",
       "       ...\n",
       "       '2018-05', '2018-06', '2018-07', '2018-08', '2018-09', '2018-10',\n",
       "       '2018-11', '2018-12', '2019-01', '2019-02'],\n",
       "      dtype='object', length=282)"
      ]
     },
     "execution_count": 8,
     "metadata": {},
     "output_type": "execute_result"
    }
   ],
   "source": [
    "df.columns"
   ]
  },
  {
   "cell_type": "code",
   "execution_count": 17,
   "metadata": {},
   "outputs": [
    {
     "name": "stdout",
     "output_type": "stream",
     "text": [
      "CPU times: user 431 ms, sys: 79.9 ms, total: 511 ms\n",
      "Wall time: 802 ms\n"
     ]
    }
   ],
   "source": [
    "%%time\n",
    "df_profile = pandas_profiling.ProfileReport(df_sample)\n",
    "\n",
    "df_profile.to_file(\"zillow-2019-02.html\")"
   ]
  },
  {
   "cell_type": "code",
   "execution_count": 40,
   "metadata": {},
   "outputs": [
    {
     "name": "stderr",
     "output_type": "stream",
     "text": [
      "/anaconda3/lib/python3.6/site-packages/pandas/core/indexing.py:362: SettingWithCopyWarning: \n",
      "A value is trying to be set on a copy of a slice from a DataFrame.\n",
      "Try using .loc[row_indexer,col_indexer] = value instead\n",
      "\n",
      "See the caveats in the documentation: http://pandas.pydata.org/pandas-docs/stable/indexing.html#indexing-view-versus-copy\n",
      "  self.obj[key] = _infer_fill_value(value)\n",
      "/anaconda3/lib/python3.6/site-packages/pandas/core/indexing.py:543: SettingWithCopyWarning: \n",
      "A value is trying to be set on a copy of a slice from a DataFrame.\n",
      "Try using .loc[row_indexer,col_indexer] = value instead\n",
      "\n",
      "See the caveats in the documentation: http://pandas.pydata.org/pandas-docs/stable/indexing.html#indexing-view-versus-copy\n",
      "  self.obj[item] = s\n"
     ]
    }
   ],
   "source": [
    "df_sample = df[['RegionID', 'RegionName', 'City', 'State', 'Metro', 'CountyName', '2019-02']]\n",
    "\n",
    "df_sample.loc[:,\"price_log\"] = np.log10(df_sample.loc[:,'2019-02'])"
   ]
  },
  {
   "cell_type": "code",
   "execution_count": 42,
   "metadata": {},
   "outputs": [
    {
     "name": "stdout",
     "output_type": "stream",
     "text": [
      "CPU times: user 471 ms, sys: 82.8 ms, total: 554 ms\n",
      "Wall time: 850 ms\n"
     ]
    }
   ],
   "source": [
    "%%time\n",
    "df_profile = pandas_profiling.ProfileReport(df_sample)\n",
    "\n",
    "df_profile.to_file(\"zillow-2019-02-take-2.html\")"
   ]
  },
  {
   "cell_type": "code",
   "execution_count": 44,
   "metadata": {},
   "outputs": [],
   "source": [
    "df_sd = df_sample[df_sample.CountyName == 'San Diego County']"
   ]
  },
  {
   "cell_type": "code",
   "execution_count": 49,
   "metadata": {},
   "outputs": [
    {
     "name": "stdout",
     "output_type": "stream",
     "text": [
      "CPU times: user 475 ms, sys: 80.5 ms, total: 556 ms\n",
      "Wall time: 849 ms\n"
     ]
    }
   ],
   "source": [
    "%%time\n",
    "df_profile = pandas_profiling.ProfileReport(df_sd, correlation_overrides = ['2019-02', 'price_log'])\n",
    "\n",
    "df_profile.to_file(\"./reports/sd-2019-02.html\")"
   ]
  }
 ],
 "metadata": {
  "hide_input": false,
  "kernelspec": {
   "display_name": "Python 3",
   "language": "python",
   "name": "python3"
  },
  "language_info": {
   "codemirror_mode": {
    "name": "ipython",
    "version": 3
   },
   "file_extension": ".py",
   "mimetype": "text/x-python",
   "name": "python",
   "nbconvert_exporter": "python",
   "pygments_lexer": "ipython3",
   "version": "3.6.4"
  },
  "latex_envs": {
   "LaTeX_envs_menu_present": true,
   "autoclose": false,
   "autocomplete": true,
   "bibliofile": "biblio.bib",
   "cite_by": "apalike",
   "current_citInitial": 1,
   "eqLabelWithNumbers": true,
   "eqNumInitial": 1,
   "hotkeys": {
    "equation": "Ctrl-E",
    "itemize": "Ctrl-I"
   },
   "labels_anchors": false,
   "latex_user_defs": false,
   "report_style_numbering": false,
   "user_envs_cfg": false
  },
  "varInspector": {
   "cols": {
    "lenName": 16,
    "lenType": 16,
    "lenVar": 40
   },
   "kernels_config": {
    "python": {
     "delete_cmd_postfix": "",
     "delete_cmd_prefix": "del ",
     "library": "var_list.py",
     "varRefreshCmd": "print(var_dic_list())"
    },
    "r": {
     "delete_cmd_postfix": ") ",
     "delete_cmd_prefix": "rm(",
     "library": "var_list.r",
     "varRefreshCmd": "cat(var_dic_list()) "
    }
   },
   "types_to_exclude": [
    "module",
    "function",
    "builtin_function_or_method",
    "instance",
    "_Feature"
   ],
   "window_display": false
  }
 },
 "nbformat": 4,
 "nbformat_minor": 2
}
