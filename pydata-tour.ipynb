{
 "cells": [
  {
   "cell_type": "markdown",
   "metadata": {
    "slideshow": {
     "slide_type": "slide"
    }
   },
   "source": [
    "# PyData tour\n",
    "\n",
    "\n",
    "\n",
    "- `pandas` and `numpy` are the primary libraries used for data analysis in Python\n",
    "- `pd` and `np` are the conventional Python namespaces used; it is strongly recommended you do the same\n"
   ]
  },
  {
   "cell_type": "code",
   "execution_count": null,
   "metadata": {
    "ExecuteTime": {
     "end_time": "2019-04-04T07:34:31.461767Z",
     "start_time": "2019-04-04T07:34:30.981612Z"
    }
   },
   "outputs": [],
   "source": [
    "import pandas as pd\n",
    "import numpy as np\n"
   ]
  },
  {
   "cell_type": "markdown",
   "metadata": {
    "slideshow": {
     "slide_type": "slide"
    }
   },
   "source": [
    "- `matplotlib` and `seaborn` are the most popular static data viz libraries in Python\n",
    "- Again it is strongly recommended you use the `plt` and `sns` namespaces for both!\n"
   ]
  },
  {
   "cell_type": "code",
   "execution_count": null,
   "metadata": {
    "ExecuteTime": {
     "end_time": "2019-04-04T07:34:32.204866Z",
     "start_time": "2019-04-04T07:34:31.463994Z"
    },
    "slideshow": {
     "slide_type": "-"
    }
   },
   "outputs": [],
   "source": [
    "import matplotlib.pyplot as plt\n",
    "%matplotlib inline\n",
    "\n",
    "import seaborn as sns"
   ]
  },
  {
   "cell_type": "markdown",
   "metadata": {
    "slideshow": {
     "slide_type": "slide"
    }
   },
   "source": [
    "## Load a data set example: "
   ]
  },
  {
   "cell_type": "code",
   "execution_count": null,
   "metadata": {
    "ExecuteTime": {
     "end_time": "2019-04-04T07:34:32.602580Z",
     "start_time": "2019-04-04T07:34:32.207345Z"
    },
    "colab": {},
    "colab_type": "code",
    "id": "aEmf3rOkkDQC",
    "slideshow": {
     "slide_type": "-"
    }
   },
   "outputs": [],
   "source": [
    "# url=\"https://gist.githubusercontent.com/curran/a08a1080b88344b0c8a7/raw/d546eaee765268bf2f487608c537c05e22e4b221/iris.csv\"\n",
    "\n",
    "# df = pd.read_csv(url)\n",
    "# df.head()\n",
    "\n",
    "df = sns.load_dataset(\"iris\")"
   ]
  },
  {
   "cell_type": "code",
   "execution_count": null,
   "metadata": {
    "ExecuteTime": {
     "end_time": "2019-04-04T07:34:32.609364Z",
     "start_time": "2019-04-04T07:34:32.605254Z"
    }
   },
   "outputs": [],
   "source": [
    "df.shape"
   ]
  },
  {
   "cell_type": "code",
   "execution_count": null,
   "metadata": {
    "ExecuteTime": {
     "end_time": "2019-04-04T07:34:32.636876Z",
     "start_time": "2019-04-04T07:34:32.611396Z"
    }
   },
   "outputs": [],
   "source": [
    "df.describe()"
   ]
  },
  {
   "cell_type": "markdown",
   "metadata": {
    "ExecuteTime": {
     "end_time": "2019-04-04T04:11:51.297004Z",
     "start_time": "2019-04-04T04:11:51.284236Z"
    },
    "slideshow": {
     "slide_type": "slide"
    }
   },
   "source": [
    "## Selecting values"
   ]
  },
  {
   "cell_type": "code",
   "execution_count": null,
   "metadata": {
    "ExecuteTime": {
     "end_time": "2019-04-04T07:34:32.643252Z",
     "start_time": "2019-04-04T07:34:32.638827Z"
    }
   },
   "outputs": [],
   "source": [
    "df.columns"
   ]
  },
  {
   "cell_type": "code",
   "execution_count": null,
   "metadata": {
    "ExecuteTime": {
     "end_time": "2019-04-04T07:34:32.653037Z",
     "start_time": "2019-04-04T07:34:32.645217Z"
    }
   },
   "outputs": [],
   "source": [
    "df[['sepal_length']].iloc[:2]"
   ]
  },
  {
   "cell_type": "code",
   "execution_count": null,
   "metadata": {
    "ExecuteTime": {
     "end_time": "2019-04-04T07:34:32.666352Z",
     "start_time": "2019-04-04T07:34:32.656664Z"
    }
   },
   "outputs": [],
   "source": [
    "df[['sepal_length', 'sepal_width']].iloc[:2]"
   ]
  },
  {
   "cell_type": "markdown",
   "metadata": {
    "slideshow": {
     "slide_type": "slide"
    }
   },
   "source": [
    "## Selecting values continued"
   ]
  },
  {
   "cell_type": "code",
   "execution_count": null,
   "metadata": {
    "ExecuteTime": {
     "end_time": "2019-04-04T07:34:32.681663Z",
     "start_time": "2019-04-04T07:34:32.670306Z"
    }
   },
   "outputs": [],
   "source": [
    "df[df.sepal_length>5].head()"
   ]
  },
  {
   "cell_type": "code",
   "execution_count": null,
   "metadata": {
    "ExecuteTime": {
     "end_time": "2019-04-04T07:34:32.694253Z",
     "start_time": "2019-04-04T07:34:32.683613Z"
    }
   },
   "outputs": [],
   "source": [
    "df[df.species==\"setosa\"].head()"
   ]
  },
  {
   "cell_type": "code",
   "execution_count": null,
   "metadata": {},
   "outputs": [],
   "source": []
  },
  {
   "cell_type": "markdown",
   "metadata": {
    "slideshow": {
     "slide_type": "slide"
    }
   },
   "source": [
    "## NumPy Arrays"
   ]
  },
  {
   "cell_type": "code",
   "execution_count": null,
   "metadata": {
    "ExecuteTime": {
     "end_time": "2019-04-04T07:34:32.699545Z",
     "start_time": "2019-04-04T07:34:32.696171Z"
    }
   },
   "outputs": [],
   "source": [
    "sepal_len = df.sepal_length.values\n",
    "petal_len = df.petal_length.values"
   ]
  },
  {
   "cell_type": "code",
   "execution_count": null,
   "metadata": {
    "ExecuteTime": {
     "end_time": "2019-04-04T07:34:32.705898Z",
     "start_time": "2019-04-04T07:34:32.701611Z"
    }
   },
   "outputs": [],
   "source": [
    "sepal_len.shape"
   ]
  },
  {
   "cell_type": "code",
   "execution_count": null,
   "metadata": {
    "ExecuteTime": {
     "end_time": "2019-04-04T07:34:32.712361Z",
     "start_time": "2019-04-04T07:34:32.707989Z"
    }
   },
   "outputs": [],
   "source": [
    "np.mean(sepal_len), np.median(sepal_len)"
   ]
  },
  {
   "cell_type": "code",
   "execution_count": null,
   "metadata": {
    "ExecuteTime": {
     "end_time": "2019-04-04T07:34:32.719084Z",
     "start_time": "2019-04-04T07:34:32.714288Z"
    }
   },
   "outputs": [],
   "source": [
    "sepal_len[:5]"
   ]
  },
  {
   "cell_type": "markdown",
   "metadata": {
    "slideshow": {
     "slide_type": "slide"
    }
   },
   "source": [
    "## Broadcasting"
   ]
  },
  {
   "cell_type": "code",
   "execution_count": null,
   "metadata": {
    "ExecuteTime": {
     "end_time": "2019-04-04T07:34:32.726491Z",
     "start_time": "2019-04-04T07:34:32.721084Z"
    },
    "scrolled": false
   },
   "outputs": [],
   "source": [
    "diffs = np.abs(sepal_len[:,np.newaxis] - sepal_len[np.newaxis,:])\n",
    "diffs.shape"
   ]
  },
  {
   "cell_type": "code",
   "execution_count": null,
   "metadata": {
    "ExecuteTime": {
     "end_time": "2019-04-04T07:34:33.351133Z",
     "start_time": "2019-04-04T07:34:32.728631Z"
    }
   },
   "outputs": [],
   "source": [
    "sns.heatmap(diffs);"
   ]
  },
  {
   "cell_type": "code",
   "execution_count": null,
   "metadata": {
    "ExecuteTime": {
     "end_time": "2019-04-04T07:34:36.630273Z",
     "start_time": "2019-04-04T07:34:33.353812Z"
    }
   },
   "outputs": [],
   "source": [
    "%%timeit\n",
    "diffs = np.abs(sepal_len[:,np.newaxis] - sepal_len[np.newaxis,:])"
   ]
  },
  {
   "cell_type": "code",
   "execution_count": null,
   "metadata": {
    "ExecuteTime": {
     "end_time": "2019-04-04T07:34:39.631561Z",
     "start_time": "2019-04-04T07:34:36.631953Z"
    }
   },
   "outputs": [],
   "source": [
    "%%timeit\n",
    "diffs = np.zeros((150,150))\n",
    "\n",
    "for i in range(150):\n",
    "    for j in range(150):\n",
    "        diffs[i,j] = np.abs(sepal_len[i] - sepal_len[j])"
   ]
  },
  {
   "cell_type": "markdown",
   "metadata": {},
   "source": [
    "## Matplotlib : MATLAB-style API"
   ]
  },
  {
   "cell_type": "code",
   "execution_count": null,
   "metadata": {
    "ExecuteTime": {
     "end_time": "2019-04-04T07:34:39.758524Z",
     "start_time": "2019-04-04T07:34:39.633383Z"
    }
   },
   "outputs": [],
   "source": [
    "x = np.arange(0,50, .1)\n",
    "plt.plot(x, np.sin(x))"
   ]
  },
  {
   "cell_type": "markdown",
   "metadata": {
    "slideshow": {
     "slide_type": "slide"
    }
   },
   "source": [
    "## Matplotlib : MATLAB-style API"
   ]
  },
  {
   "cell_type": "code",
   "execution_count": null,
   "metadata": {
    "ExecuteTime": {
     "end_time": "2019-04-04T07:34:39.970775Z",
     "start_time": "2019-04-04T07:34:39.760513Z"
    }
   },
   "outputs": [],
   "source": [
    "plt.figure()  # create a plot figure\n",
    "\n",
    "\n",
    "# create the first of two panels and set current axis\n",
    "plt.subplot(2, 1, 1) # (rows, columns, panel number)\n",
    "plt.plot(x, np.sin(x))\n",
    "\n",
    "# create the second panel and set current axis\n",
    "plt.subplot(2, 1, 2)\n",
    "plt.plot(-x, np.cos(x));"
   ]
  },
  {
   "cell_type": "markdown",
   "metadata": {
    "slideshow": {
     "slide_type": "slide"
    }
   },
   "source": [
    "## Matplotlib: Object Oriented API"
   ]
  },
  {
   "cell_type": "code",
   "execution_count": null,
   "metadata": {
    "ExecuteTime": {
     "end_time": "2019-04-04T07:34:40.142179Z",
     "start_time": "2019-04-04T07:34:39.972820Z"
    }
   },
   "outputs": [],
   "source": [
    "# First create a grid of plots\n",
    "# ax will be an array of two Axes objects\n",
    "fig, ax = plt.subplots(2, figsize=(8,4))\n",
    "\n",
    "# Call plot() method on the appropriate object\n",
    "ax[0].plot(x, np.sin(x))\n",
    "ax[1].plot(x, np.cos(x));"
   ]
  },
  {
   "cell_type": "markdown",
   "metadata": {
    "slideshow": {
     "slide_type": "slide"
    }
   },
   "source": [
    "## Seaborn overview\n"
   ]
  },
  {
   "cell_type": "code",
   "execution_count": null,
   "metadata": {
    "colab": {
     "base_uri": "https://localhost:8080/",
     "height": 204
    },
    "colab_type": "code",
    "id": "KGCztG4eLpLP",
    "outputId": "43fbe4cf-207c-40a0-c6cf-b50f234b9282"
   },
   "outputs": [],
   "source": [
    "\n",
    "tips = sns.load_dataset('tips')\n",
    "tips['tip_pct'] = 100 * tips['tip'] / tips['total_bill']\n"
   ]
  },
  {
   "cell_type": "code",
   "execution_count": null,
   "metadata": {
    "colab": {
     "base_uri": "https://localhost:8080/",
     "height": 437
    },
    "colab_type": "code",
    "id": "lqjgNWbcYVGz",
    "outputId": "51aef0f4-c5c8-47c4-84b2-6e9407570be6"
   },
   "outputs": [],
   "source": [
    "\n",
    "with sns.axes_style(style='ticks'):\n",
    "    grid = sns.FacetGrid(tips, row=\"sex\", col=\"time\", hue= \"smoker\", \n",
    "                         margin_titles=True)\n",
    "    grid.map(plt.hist, \"tip_pct\", bins=np.linspace(0, 40, 15));"
   ]
  },
  {
   "cell_type": "code",
   "execution_count": null,
   "metadata": {
    "colab": {
     "base_uri": "https://localhost:8080/",
     "height": 419
    },
    "colab_type": "code",
    "id": "GXxT0YVSYW8G",
    "outputId": "91888809-c3c3-472b-cda0-8bae3e6c10a5",
    "slideshow": {
     "slide_type": "slide"
    }
   },
   "outputs": [],
   "source": [
    "\n",
    "g = sns.catplot(\"day\", \"total_bill\", \"sex\", data=tips, kind=\"box\")\n"
   ]
  },
  {
   "cell_type": "markdown",
   "metadata": {
    "slideshow": {
     "slide_type": "slide"
    }
   },
   "source": [
    "## feature engineering example"
   ]
  },
  {
   "cell_type": "code",
   "execution_count": null,
   "metadata": {
    "colab": {},
    "colab_type": "code",
    "id": "RClasq24jL4Z",
    "slideshow": {
     "slide_type": "-"
    }
   },
   "outputs": [],
   "source": [
    "from sklearn.datasets import make_circles\n",
    "\n",
    "np.random.seed(0)\n",
    "\n",
    "X, y = make_circles(n_samples=400, factor=.1, noise=.05)"
   ]
  },
  {
   "cell_type": "code",
   "execution_count": null,
   "metadata": {
    "colab": {},
    "colab_type": "code",
    "id": "IlZT5-eC0_Ga",
    "slideshow": {
     "slide_type": "slide"
    }
   },
   "outputs": [],
   "source": [
    "df_X = pd.DataFrame(X, columns = [\"f1\", \"f2\"])\n",
    "df_X[\"f3\"] = df_X.f1**2 + df_X.f2**2"
   ]
  },
  {
   "cell_type": "code",
   "execution_count": null,
   "metadata": {
    "colab": {
     "base_uri": "https://localhost:8080/",
     "height": 365
    },
    "colab_type": "code",
    "id": "JkdyoQPijvH7",
    "outputId": "0941b1bc-4305-4a4b-9e5e-abd8586a776d"
   },
   "outputs": [],
   "source": [
    "sns.relplot(x = \"f1\", y = \"f2\", hue = \"f3\", data = df_X);"
   ]
  },
  {
   "cell_type": "code",
   "execution_count": null,
   "metadata": {},
   "outputs": [],
   "source": []
  }
 ],
 "metadata": {
  "celltoolbar": "Slideshow",
  "colab": {
   "name": "matplotlib-seaborn.ipynb",
   "provenance": [],
   "version": "0.3.2"
  },
  "hide_input": false,
  "kernelspec": {
   "display_name": "Python 3",
   "language": "python",
   "name": "python3"
  },
  "language_info": {
   "codemirror_mode": {
    "name": "ipython",
    "version": 3
   },
   "file_extension": ".py",
   "mimetype": "text/x-python",
   "name": "python",
   "nbconvert_exporter": "python",
   "pygments_lexer": "ipython3",
   "version": "3.6.4"
  },
  "latex_envs": {
   "LaTeX_envs_menu_present": false,
   "autoclose": false,
   "autocomplete": true,
   "bibliofile": "biblio.bib",
   "cite_by": "apalike",
   "current_citInitial": 1,
   "eqLabelWithNumbers": true,
   "eqNumInitial": 1,
   "hotkeys": {
    "equation": "Ctrl-E",
    "itemize": "Ctrl-I"
   },
   "labels_anchors": false,
   "latex_user_defs": false,
   "report_style_numbering": false,
   "user_envs_cfg": false
  },
  "varInspector": {
   "cols": {
    "lenName": 16,
    "lenType": 16,
    "lenVar": 40
   },
   "kernels_config": {
    "python": {
     "delete_cmd_postfix": "",
     "delete_cmd_prefix": "del ",
     "library": "var_list.py",
     "varRefreshCmd": "print(var_dic_list())"
    },
    "r": {
     "delete_cmd_postfix": ") ",
     "delete_cmd_prefix": "rm(",
     "library": "var_list.r",
     "varRefreshCmd": "cat(var_dic_list()) "
    }
   },
   "types_to_exclude": [
    "module",
    "function",
    "builtin_function_or_method",
    "instance",
    "_Feature"
   ],
   "window_display": false
  }
 },
 "nbformat": 4,
 "nbformat_minor": 2
}
